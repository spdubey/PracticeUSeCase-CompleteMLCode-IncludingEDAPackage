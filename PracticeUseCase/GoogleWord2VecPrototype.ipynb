{
 "cells": [
  {
   "cell_type": "code",
   "execution_count": 2,
   "metadata": {},
   "outputs": [],
   "source": [
    "#!pip install -U gensim\n",
    "from gensim.models import KeyedVectors\n",
    "import numpy as np\n",
    "from sklearn.metrics.pairwise import cosine_similarity\n",
    "import warnings"
   ]
  },
  {
   "cell_type": "code",
   "execution_count": null,
   "metadata": {},
   "outputs": [],
   "source": []
  },
  {
   "cell_type": "code",
   "execution_count": 3,
   "metadata": {},
   "outputs": [],
   "source": [
    "word2vec_model = KeyedVectors.load_word2vec_format('GoogleNews-vectors-negative300.bin', binary=True)"
   ]
  },
  {
   "cell_type": "code",
   "execution_count": 7,
   "metadata": {},
   "outputs": [
    {
     "name": "stdout",
     "output_type": "stream",
     "text": [
      "The cosine similarity between target : 'CINNAMON' and : 'CINNAMON CHIP' is [0.77572327]\n",
      "The cosine similarity between target : 'CHOCOLATE CHIP' and : 'CINNAMON CHIP' is [0.79391691]\n"
     ]
    }
   ],
   "source": [
    "inp_lst = ['CINNAMON ','CHOCOLATE CHIP']\n",
    "candidate = 'CINNAMON CHIP'\n",
    "for elem in inp_lst:\n",
    "    elem = elem.strip(\" \").strip(\",\").replace(\",\", \" \")\n",
    "    vector_set = []\n",
    "    candidate_vector = []\n",
    "    \n",
    "    # Target\n",
    "    for each_word in elem.split(\" \"):\n",
    "        try:\n",
    "            tgt_word_vector = word2vec_model[each_word.lower()]\n",
    "            #print(np.mean(tgt_word_vector))\n",
    "            vector_set.append(tgt_word_vector)\n",
    "        except KeyError:\n",
    "            #print(\"Pass : \", each_word.lower())\n",
    "            pass\n",
    "    target_mean_vector = np.mean(vector_set, axis=0).tolist()\n",
    "    \n",
    "    # Candidate\n",
    "    candidate = candidate.strip(\" \").strip(\",\").replace(\",\", \" \")\n",
    "    for each_candidate in candidate.split(\" \"):\n",
    "        #print(\"each_candidate\", each_candidate)\n",
    "        try:\n",
    "            cand_word_vector = word2vec_model[each_candidate.lower()]\n",
    "            #print(cand_word_vector)\n",
    "            candidate_vector.append(cand_word_vector)\n",
    "        except KeyError:\n",
    "            #print(\"Pass : \", each_candidate.lower())\n",
    "            pass\n",
    "    candidate_mean_vector = np.mean(candidate_vector, axis=0).tolist()\n",
    "    #print(\"**\",candidate_mean_vector)\n",
    "    \n",
    "    \n",
    "    final_target = np.array(target_mean_vector, ndmin=2).reshape(1, -1)\n",
    "    final_candidate = np.array(candidate_mean_vector, ndmin=2)\n",
    "    \n",
    "    simi = cosine_similarity(final_target, Y=final_candidate)[0]\n",
    "    \n",
    "    print(\"The cosine similarity between target : '{}' and : '{}' is {}\".format(elem, candidate, simi))\n",
    "    "
   ]
  },
  {
   "cell_type": "code",
   "execution_count": null,
   "metadata": {},
   "outputs": [],
   "source": [
    "'''\n",
    "\n",
    "\n",
    "\n",
    "\n",
    "\n",
    "\n",
    "The cosine similarity between target : 'CINNAMON CINNAMON CHIP' and candidate : 'CINNAMON' is [0.9205667]\n",
    "The cosine similarity between target : 'MAPLE BROWN SUGAR' and candidate : 'CINNAMON' is [0.62313786]\n",
    "The cosine similarity between target : 'CHOCOLATE CHIP CHOCOLATE CHIP' and candidate : 'CINNAMON' is [0.42506213]\n",
    "The cosine similarity between target : 'sugar' and candidate : 'CINNAMON' is [0.46099122]\n",
    "The cosine similarity between target : 'apple' and candidate : 'CINNAMON' is [0.41559789]\n",
    "\n",
    "\n",
    "'''"
   ]
  },
  {
   "cell_type": "code",
   "execution_count": 18,
   "metadata": {},
   "outputs": [],
   "source": [
    "x1 = 0.36209895770424\n",
    "x2 = 0.3314691871446397\n",
    "\n"
   ]
  },
  {
   "cell_type": "code",
   "execution_count": 20,
   "metadata": {},
   "outputs": [
    {
     "data": {
      "text/plain": [
       "0.045816542739111114"
      ]
     },
     "execution_count": 20,
     "metadata": {},
     "output_type": "execute_result"
    }
   ],
   "source": [
    "(x1 - x2)/ (1-x2)"
   ]
  },
  {
   "cell_type": "code",
   "execution_count": null,
   "metadata": {},
   "outputs": [],
   "source": [
    "'cinnamon' == 'cinnamon'"
   ]
  },
  {
   "cell_type": "code",
   "execution_count": null,
   "metadata": {},
   "outputs": [],
   "source": [
    " 'cinnamon chip' "
   ]
  }
 ],
 "metadata": {
  "kernelspec": {
   "display_name": "Python 3",
   "language": "python",
   "name": "python3"
  },
  "language_info": {
   "codemirror_mode": {
    "name": "ipython",
    "version": 3
   },
   "file_extension": ".py",
   "mimetype": "text/x-python",
   "name": "python",
   "nbconvert_exporter": "python",
   "pygments_lexer": "ipython3",
   "version": "3.7.6"
  }
 },
 "nbformat": 4,
 "nbformat_minor": 2
}
